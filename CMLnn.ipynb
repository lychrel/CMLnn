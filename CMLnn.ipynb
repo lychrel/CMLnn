{
  "nbformat": 4,
  "nbformat_minor": 0,
  "metadata": {
    "colab": {
      "name": "CMLnn.ipynb",
      "provenance": [],
      "collapsed_sections": [],
      "toc_visible": true
    },
    "kernelspec": {
      "name": "python3",
      "display_name": "Python 3"
    },
    "accelerator": "GPU"
  },
  "cells": [
    {
      "cell_type": "markdown",
      "metadata": {
        "id": "jn7TH8rUIYM3",
        "colab_type": "text"
      },
      "source": [
        "![tent map CMLs](https://media-exp1.licdn.com/dms/image/C4D22AQF5qqMBVPHWHg/feedshare-shrink_1280/0?e=1593043200&v=beta&t=26DxI5bLMUm3eEH9vbRyelF5Z79XAkJwWA9BWdC_3zQ)\n",
        "# Learning Chaotic Coupled-Map Lattices\n",
        "Two main goals:\n",
        "- learning to initialize chaotic systems\n",
        "- learning to configure chaotic systems (both ICs and BPs)\n",
        "\n",
        "The first seems to be much easier than the second.\n",
        "\n",
        "## Todos\n",
        "- address vanishing gradients for larger timesteps\n",
        "  - residual connection doesn't seem to solve the problem...\n",
        "  - could also try a different map function (tanh?)\n",
        "  - [Shobu-Ose-Mori](http://www.scipress.org/journals/forma/pdf/2801/28010001.pdf) Map is piecewise liear, has stronger grads\n",
        "  - tent map (would need to be made diffable at center)\n",
        "  - [smooth generalization](https://www.worldscientific.com/doi/10.1142/S021812741730004X) of tent/logistic\n",
        "  - [circle map](https://manasataramgini.wordpress.com/2017/11/26/pattern-formation-in-coupled-map-lattices-with-the-circle-map-tanh-map-and-chebyshev-map/)\n",
        "\n",
        "## Errata\n",
        "- [role of ICs](https://www.ncbi.nlm.nih.gov/pmc/articles/PMC4934879/) in pattern-selection dynamics "
      ]
    },
    {
      "cell_type": "markdown",
      "metadata": {
        "id": "NiuxlX-HUweH",
        "colab_type": "text"
      },
      "source": [
        "### Imports"
      ]
    },
    {
      "cell_type": "code",
      "metadata": {
        "id": "UgUE_cJvUx3F",
        "colab_type": "code",
        "colab": {}
      },
      "source": [
        "from __future__ import absolute_import, division, print_function, unicode_literals\n",
        "# To generate GIFs\n",
        "!pip install -q imageio\n",
        "import glob\n",
        "import imageio\n",
        "import matplotlib.pyplot as plt\n",
        "import numpy as np\n",
        "import os\n",
        "import PIL\n",
        "import time\n",
        "from tqdm import tqdm\n",
        "import tensorflow as tf\n",
        "from tensorflow.keras.callbacks import TensorBoard\n",
        "import sys\n",
        "import cv2\n",
        "\n",
        "from IPython import display\n",
        "\n",
        "K = tf.keras.backend\n",
        "layers = tf.keras.layers\n",
        "\n",
        "from tensorflow.keras.datasets import mnist"
      ],
      "execution_count": 0,
      "outputs": []
    },
    {
      "cell_type": "markdown",
      "metadata": {
        "id": "YGYHL7lzXqya",
        "colab_type": "text"
      },
      "source": [
        "## Constants / Training Parameters"
      ]
    },
    {
      "cell_type": "code",
      "metadata": {
        "id": "mt73CoCNXr2a",
        "colab_type": "code",
        "colab": {}
      },
      "source": [
        "batch_size = 512\n",
        "BATCH_SIZE = batch_size\n",
        "num_classes = 10\n",
        "epochs = 100\n",
        "EPOCHS = epochs\n",
        "\n",
        "dynamics = {'chaotic traveling wave': (1.69, 0.5),\n",
        "            'spatiotemporal intermittency': (1.7522, 0.00115),\n",
        "            'pattern selection': (1.71, 0.4),\n",
        "            'no coupling': (1.7522, 0.0),\n",
        "            'global coupling': (1.7522, 1.0),\n",
        "            'tent': (0.8, 0.5),\n",
        "            'local tent': (0.8, 0.0),\n",
        "            'zero': (0.0, 0.0)}\n",
        "\n",
        "# input image dimensions\n",
        "img_rows, img_cols = 28, 28\n",
        "\n",
        "TIME=10\n",
        "BP, COUPLING = dynamics['pattern selection']\n",
        "INITIALIZATION_ACTIVATION = \"tanh\" # \"sigmoid\""
      ],
      "execution_count": 0,
      "outputs": []
    },
    {
      "cell_type": "markdown",
      "metadata": {
        "id": "M8ZweStojRyY",
        "colab_type": "text"
      },
      "source": [
        "## LR Multiplier\n",
        "- to avoid pandemonium, learn system config slower than system initialization (even w/ optimizers)"
      ]
    },
    {
      "cell_type": "code",
      "metadata": {
        "id": "rv0ExBT_jXRn",
        "colab_type": "code",
        "outputId": "b2d26c46-3605-4928-8541-01a11a7f9c74",
        "colab": {
          "base_uri": "https://localhost:8080/",
          "height": 343
        }
      },
      "source": [
        "!pip install keras-lr-multiplier\n",
        "TF_KERAS = True\n",
        "import keras_lr_multiplier.backend\n",
        "#keras_lr_multiplier.backend.TF_KERAS = True\n",
        "from keras_lr_multiplier import LRMultiplier"
      ],
      "execution_count": 0,
      "outputs": [
        {
          "output_type": "stream",
          "text": [
            "Collecting keras-lr-multiplier\n",
            "  Downloading https://files.pythonhosted.org/packages/7d/78/0eed4862a7274fb491b50881dd2f0dac996ff5774dc4a30c4b628fb78b25/keras-lr-multiplier-0.8.0.tar.gz\n",
            "Requirement already satisfied: numpy in /usr/local/lib/python3.6/dist-packages (from keras-lr-multiplier) (1.18.4)\n",
            "Requirement already satisfied: Keras in /usr/local/lib/python3.6/dist-packages (from keras-lr-multiplier) (2.3.1)\n",
            "Requirement already satisfied: keras-applications>=1.0.6 in /usr/local/lib/python3.6/dist-packages (from Keras->keras-lr-multiplier) (1.0.8)\n",
            "Requirement already satisfied: scipy>=0.14 in /usr/local/lib/python3.6/dist-packages (from Keras->keras-lr-multiplier) (1.4.1)\n",
            "Requirement already satisfied: pyyaml in /usr/local/lib/python3.6/dist-packages (from Keras->keras-lr-multiplier) (3.13)\n",
            "Requirement already satisfied: six>=1.9.0 in /usr/local/lib/python3.6/dist-packages (from Keras->keras-lr-multiplier) (1.12.0)\n",
            "Requirement already satisfied: keras-preprocessing>=1.0.5 in /usr/local/lib/python3.6/dist-packages (from Keras->keras-lr-multiplier) (1.1.2)\n",
            "Requirement already satisfied: h5py in /usr/local/lib/python3.6/dist-packages (from Keras->keras-lr-multiplier) (2.10.0)\n",
            "Building wheels for collected packages: keras-lr-multiplier\n",
            "  Building wheel for keras-lr-multiplier (setup.py) ... \u001b[?25l\u001b[?25hdone\n",
            "  Created wheel for keras-lr-multiplier: filename=keras_lr_multiplier-0.8.0-cp36-none-any.whl size=5717 sha256=925837f76554f819dcc12e2e1ed638ea03c8f046358c5f05d8962f98d126b7a6\n",
            "  Stored in directory: /root/.cache/pip/wheels/2a/a5/a4/340d5432bced221b2bcca324e3257239784dd1220ab7c786e9\n",
            "Successfully built keras-lr-multiplier\n",
            "Installing collected packages: keras-lr-multiplier\n",
            "Successfully installed keras-lr-multiplier-0.8.0\n"
          ],
          "name": "stdout"
        },
        {
          "output_type": "stream",
          "text": [
            "Using TensorFlow backend.\n"
          ],
          "name": "stderr"
        }
      ]
    },
    {
      "cell_type": "markdown",
      "metadata": {
        "id": "cIaHglJCIjHC",
        "colab_type": "text"
      },
      "source": [
        "## First test: CMLnet\n",
        "A neural network learns to initialize (and later: bp- and coupling-configure) a coupled map lattice of logistic map units"
      ]
    },
    {
      "cell_type": "markdown",
      "metadata": {
        "id": "UvE19yYSVch6",
        "colab_type": "text"
      },
      "source": [
        "### Logistic Map\n",
        "$x_{n+1} = r \\cdot x_{n}(1 - x_{n})$\n",
        "\n",
        "$x_{n+1} = 1 - ax_{n}^{2}$"
      ]
    },
    {
      "cell_type": "code",
      "metadata": {
        "id": "Shl2fhT1IU3-",
        "colab_type": "code",
        "colab": {}
      },
      "source": [
        "def kaneko_keras(x, a):\n",
        "  #print(\"- Kaneko:\\tx: {}\\ta: {}\".format(x.shape, a.shape))\n",
        "  return K.ones_like(x) - a * K.square(x)\n",
        "\n",
        "def identity(x, a):\n",
        "  return x\n",
        "\n",
        "def tanh(x, a):\n",
        "  return K.tanh(x)\n",
        "\n",
        "# this actually works *better* w/ incorrect domain of [-1, 1]\n",
        "def tent(x, a):\n",
        "  return a * (K.ones_like(x) - 2 * K.abs(x - 0.5 * K.ones_like(x)))\n",
        "\n",
        "MAP_FUNC=kaneko_keras"
      ],
      "execution_count": 0,
      "outputs": []
    },
    {
      "cell_type": "markdown",
      "metadata": {
        "id": "HD2eZiDd8kJL",
        "colab_type": "text"
      },
      "source": [
        "### Layer Utils\n",
        "- two-neighbor coupling\n",
        "- conv-to-dense block\n",
        "**N.B**: instead of updating the boundaries separately, just _wrap_ them. I.e., make L, C, and R all same-size, with L and R appropriately shifted. "
      ]
    },
    {
      "cell_type": "code",
      "metadata": {
        "id": "2fgF7DUsdfcV",
        "colab_type": "code",
        "colab": {}
      },
      "source": [
        "def two_neighbor_cml(inp):\n",
        "  x, a, strength = inp\n",
        "  num_features = K.int_shape(x)[-1]\n",
        "  batch_size = K.shape(x)[0]\n",
        "\n",
        "  # update the middle first\n",
        "  L = x[:, :-2]\n",
        "  C = x[:, 1:-1]\n",
        "  R = x[:, 2:]\n",
        "  a_mid = a[:, :-2]\n",
        "  str_mid = strength[:, :-2]\n",
        "  lattice_middle = (1.0 - str_mid) * MAP_FUNC(C, a_mid) + (str_mid/2.0) * (MAP_FUNC(L, a_mid) + MAP_FUNC(R, a_mid))\n",
        "\n",
        "  # then, update the boundaries\n",
        "  lattice_left = MAP_FUNC(x[:, 0], a[:, 0])\n",
        "  lattice_right = MAP_FUNC(x[:, -1], a[:, -1])\n",
        "\n",
        "  lattice_left = K.reshape(x=lattice_left, shape=(batch_size, 1))\n",
        "  lattice_right = K.reshape(x=lattice_right, shape=(batch_size, 1))\n",
        "\n",
        "  return K.concatenate([lattice_left, lattice_middle, lattice_right], axis=-1)\n",
        "\n",
        "\n",
        "def down_conv_block_with_pooling(inputs, num_output_features, base_sz=64, scope=\"default\"):\n",
        "  # 2x2 strided conv\n",
        "  conv_1 = layers.Conv2D(base_sz, (3, 3), strides=(1, 1), padding='same', name=scope + '-c1')(inputs)\n",
        "  bn_1 = conv_1#tf.layers.BatchNormalization(name=scope + '-bn1')(conv_1)\n",
        "  relu_1 = layers.ReLU(name=scope + '-lru1')(bn_1)\n",
        "  pool_1 = layers.MaxPooling2D((2, 2))(relu_1)\n",
        "  # 2x2 strided conv\n",
        "  conv_2 = layers.Conv2D(base_sz, (3, 3), strides=(1, 1), padding='same', name=scope + '-c2')(pool_1)\n",
        "  bn_2 = conv_2#layers.BatchNormalization(name=scope + '-bn2')(conv_2)\n",
        "  relu_2 = layers.ReLU(name=scope + '-lru2')(bn_2)\n",
        "  pool_2 = layers.MaxPooling2D((2, 2))(relu_2)\n",
        "  # flatten\n",
        "  flat = layers.Flatten(name=scope + '-flt1')(pool_2)\n",
        "  # dense\n",
        "  dense = layers.Dense(num_output_features, name=scope + '-d1')(flat)\n",
        "  drop = layers.Dropout(0.4)(dense)\n",
        "  return drop  \n",
        "\n",
        "\n",
        "def down_conv_block(inputs, num_output_features, base_sz=64, scope=\"default\"):\n",
        "\n",
        "  # 2x2 strided conv\n",
        "  conv_1 = layers.Conv2D(base_sz, (3, 3), strides=(2, 2), padding='same', name=scope + '-c1')(inputs)\n",
        "  bn_1 = conv_1#tf.layers.BatchNormalization(name=scope + '-bn1')(conv_1)\n",
        "  relu_1 = layers.LeakyReLU(name=scope + '-lru1')(bn_1)\n",
        "  # 2x2 strided conv\n",
        "  conv_2 = layers.Conv2D(base_sz, (3, 3), strides=(2, 2), padding='same', name=scope + '-c2')(relu_1)\n",
        "  bn_2 = conv_2#layers.BatchNormalization(name=scope + '-bn2')(conv_2)\n",
        "  relu_2 = layers.LeakyReLU(name=scope + '-lru2')(bn_2)\n",
        "  # flatten\n",
        "  flat = layers.Flatten(name=scope + '-flt1')(relu_2)\n",
        "  # dense\n",
        "  dense = layers.Dense(num_output_features, name=scope + '-d1')(flat)\n",
        "  drop = layers.Dropout(0.4)(dense)\n",
        "  return drop  \n",
        "\n",
        "def tile_param_along_lattice(inputs):\n",
        "  parameter, num_features = inputs\n",
        "  expanded = K.expand_dims(parameter)\n",
        "  batch_size = K.shape(parameter)[0]\n",
        "\n",
        "  tiled = K.tile(expanded, (batch_size, num_features))\n",
        "\n",
        "  return tiled"
      ],
      "execution_count": 0,
      "outputs": []
    },
    {
      "cell_type": "markdown",
      "metadata": {
        "id": "z2XwXrM2VsOH",
        "colab_type": "text"
      },
      "source": [
        "### Two-Neighbor Coupled Map Lattice (CML)\n",
        "Just wrap the entire tf fucntion (slicing included) in a `Lambda` layer...\n",
        "- may need to apply the update in a loop... that should be fine\n",
        "- maybe a `TwoNeighborCoupled` layer? applied once, updates once?\n",
        "```\n",
        "dense = Flatten()(convs)\n",
        "for t in range(timesteps):\n",
        "    dense = TwoNeighborCML()(dense)\n",
        "```\n",
        "gradients might be a nightmare, tho kaneko's logistic map itself has a nicely simple gradient"
      ]
    },
    {
      "cell_type": "code",
      "metadata": {
        "id": "GWDvQtyDWeND",
        "colab_type": "code",
        "colab": {}
      },
      "source": [
        "def CML_NN(inputs, NUM_FEATURES=128, timesteps=1, n_classes=10):\n",
        "  \n",
        "  # shared conv features\n",
        "  shared_features = layers.Conv2D(64, (3, 3), padding='same', name=\"shared\")(inputs)\n",
        "  # get initial lattice conditions\n",
        "  initial_conditions = down_conv_block_with_pooling(shared_features, NUM_FEATURES, 64, \"init\")\n",
        "  # TESTING\n",
        "  # - sigmoid kills gradient\n",
        "  # - tanh+relu gets same uniform scale\n",
        "  initial_conditions = layers.Activation(INITIALIZATION_ACTIVATION, name='initial-conditions')(initial_conditions)\n",
        "\n",
        "  # get system params (B.P. + coupling strength)\n",
        "  system_params = down_conv_block(shared_features, 2, 64, \"sys\")#down_conv_block(shared_features, 2, 64, \"sys\")\n",
        "  bp = system_params[:, 0]\n",
        "  #coupling = layers.Activation(\"sigmoid\")(system_params[1][1])\n",
        "  coupling = layers.Activation(\"tanh\")(system_params[:, 1])\n",
        "  coupling = layers.Activation(\"relu\")(coupling)\n",
        "\n",
        "  # tile bp and coupling to the entire lattice!\n",
        "  #bp = layers.Lambda(tf.keras.backend.tile, arguments={'n':(-1, NUM_FEATURES)})(bp)\n",
        "  #coupling = layers.Lambda(tf.keras.backend.tile, arguments={'n':(-1, NUM_FEATURES)})(coupling)\n",
        "  #bp = layers.RepeatVector(NUM_FEATURES)(bp)\n",
        "  #coupling = layers.RepeatVector(NUM_FEATURES)(coupling)\n",
        "  bp = layers.Lambda(tile_param_along_lattice, name=\"bp-tiling\", output_shape=(NUM_FEATURES,))([bp, NUM_FEATURES])\n",
        "  coupling = layers.Lambda(tile_param_along_lattice, name=\"coupling-tiling\", output_shape=(NUM_FEATURES,))([coupling, NUM_FEATURES])\n",
        "\n",
        "  # for now, don't learn these.\n",
        "  bp = K.ones_like(initial_conditions)*BP#system_params[1][0]) * 1.69 #1.7522\n",
        "  coupling = K.ones_like(initial_conditions)*COUPLING#system_params[1][0]) * 0.5 #0.00115\n",
        "\n",
        "  system_state = initial_conditions\n",
        "  \n",
        "  # evolve CML\n",
        "  for i in range(timesteps):\n",
        "    system_state = layers.Lambda(two_neighbor_cml, output_shape=(NUM_FEATURES,), name=\"lattice-evolution-\" + str(i))([system_state, bp, coupling])\n",
        "  \n",
        "  # residual connection\n",
        "  system_state = layers.Add()([system_state, initial_conditions])#system_state + initial_conditions\n",
        "\n",
        "  #system_state = layers.Dense(128)(system_state)\n",
        "  #system_state = layers.Activation('relu')(system_state)\n",
        "  system_state = layers.Dropout(0.5)(system_state)\n",
        "  decision_dense = layers.Dense(n_classes)(system_state)\n",
        "  decision_classes = layers.Activation('softmax')(decision_dense)\n",
        "\n",
        "  return decision_classes\n",
        "\n"
      ],
      "execution_count": 0,
      "outputs": []
    },
    {
      "cell_type": "markdown",
      "metadata": {
        "id": "Ln7DfZGdXiKT",
        "colab_type": "text"
      },
      "source": [
        "## Training Utils"
      ]
    },
    {
      "cell_type": "markdown",
      "metadata": {
        "id": "AtiiB6BQ5IiA",
        "colab_type": "text"
      },
      "source": [
        "### Data Preprocessing"
      ]
    },
    {
      "cell_type": "code",
      "metadata": {
        "id": "qtqX_S8DXjmW",
        "colab_type": "code",
        "outputId": "4e32713e-9bdd-4625-e8a5-b0bf442a9ab1",
        "colab": {
          "base_uri": "https://localhost:8080/",
          "height": 102
        }
      },
      "source": [
        "# the data, split between train and test sets\n",
        "(x_train, y_train), (x_test, y_test) = mnist.load_data()\n",
        "\n",
        "if K.image_data_format() == 'channels_first':\n",
        "    x_train = x_train.reshape(x_train.shape[0], 1, img_rows, img_cols)\n",
        "    x_test = x_test.reshape(x_test.shape[0], 1, img_rows, img_cols)\n",
        "    input_shape = (1, img_rows, img_cols)\n",
        "else:\n",
        "    x_train = x_train.reshape(x_train.shape[0], img_rows, img_cols, 1)\n",
        "    x_test = x_test.reshape(x_test.shape[0], img_rows, img_cols, 1)\n",
        "    input_shape = (img_rows, img_cols, 1)\n",
        "\n",
        "x_train = x_train.astype('float32')\n",
        "x_test = x_test.astype('float32')\n",
        "x_train /= 255\n",
        "x_test /= 255\n",
        "print('x_train shape:', x_train.shape)\n",
        "print(x_train.shape[0], 'train samples')\n",
        "print(x_test.shape[0], 'test samples')\n",
        "\n",
        "# convert class vectors to binary class matrices\n",
        "y_train = tf.keras.utils.to_categorical(y_train, num_classes)\n",
        "y_test = tf.keras.utils.to_categorical(y_test, num_classes)"
      ],
      "execution_count": 0,
      "outputs": [
        {
          "output_type": "stream",
          "text": [
            "Downloading data from https://storage.googleapis.com/tensorflow/tf-keras-datasets/mnist.npz\n",
            "11493376/11490434 [==============================] - 0s 0us/step\n",
            "x_train shape: (60000, 28, 28, 1)\n",
            "60000 train samples\n",
            "10000 test samples\n"
          ],
          "name": "stdout"
        }
      ]
    },
    {
      "cell_type": "markdown",
      "metadata": {
        "id": "XZAM60MSbGU_",
        "colab_type": "text"
      },
      "source": [
        "### Callback\n",
        "Visualizes CML evolution for test data"
      ]
    },
    {
      "cell_type": "code",
      "metadata": {
        "id": "itXOtIw6bIBz",
        "colab_type": "code",
        "colab": {}
      },
      "source": [
        "def plot_cml(cml_data, timesteps, epoch):\n",
        "\n",
        "  multiple = 5\n",
        "  num_subplots = cml_data.shape[-2]\n",
        "  fig, axs = plt.subplots(1, num_subplots)\n",
        "  fig.set_size_inches(18.5, 10.5)\n",
        "  \n",
        "  for i in range(num_subplots):\n",
        "    cml = cml_data[0, :, i, :]\n",
        "    # make the timesteps \"larger\" for easier viewing\n",
        "    # - (the resize method looks cooler but is more ambiguous)\n",
        "    #multiple = int(cml.shape[1] / cml.shape[0])\n",
        "    #cml = np.repeat(cml, repeats=multiple, axis=0)\n",
        "    cml = cv2.resize(cml, (1024,1024)) \n",
        "    axs[i].imshow((cml * 127.5 + 127.5), cmap='magma')\n",
        "    axs[i].axis('off')\n",
        "    \n",
        "  plt.savefig('tmp/{}.png'.format(epoch))\n",
        "\n",
        "  plt.close()\n",
        "\n",
        "\n",
        "class viz_cml(tf.keras.callbacks.Callback):\n",
        "    def __init__(self, model, X_test, timesteps):\n",
        "        self.model = model\n",
        "        self.x = X_test\n",
        "        self.time = timesteps\n",
        "\n",
        "    def on_train_begin(self, logs={}):\n",
        "        return\n",
        "\n",
        "    def on_train_end(self, logs={}):\n",
        "        return\n",
        "\n",
        "    def on_epoch_begin(self, epoch, logs={}):\n",
        "        return\n",
        "\n",
        "    def on_epoch_end(self, epoch, logs={}):\n",
        "        model = self.model\n",
        "        inp = model.input  # input placeholder\n",
        "        outputs = []\n",
        "        outputs.append(model.get_layer('initial-conditions').output)  # get output of N's layer\n",
        "        for i in range(self.time):\n",
        "          outputs.append(model.get_layer('lattice-evolution-' + str(i)).output)\n",
        "        functors = K.function([inp], [outputs])\n",
        "        layer_outs = functors([self.x, 1.])\n",
        "        layer_outs = np.array(layer_outs)\n",
        "        #print('\\r OUTPUTS : {}'.format(layer_outs.shape))\n",
        "        plot_cml(layer_outs, self.time, epoch)\n",
        "        \n",
        "        return\n",
        "\n",
        "    def on_batch_begin(self, batch, logs={}):\n",
        "        return\n",
        "\n",
        "    def on_batch_end(self, batch, logs={}):\n",
        "        return"
      ],
      "execution_count": 0,
      "outputs": []
    },
    {
      "cell_type": "markdown",
      "metadata": {
        "id": "UlT7a_WiXk0W",
        "colab_type": "text"
      },
      "source": [
        "## Running Training"
      ]
    },
    {
      "cell_type": "code",
      "metadata": {
        "id": "3iMPjbi9WRTf",
        "colab_type": "code",
        "outputId": "19713218-65bf-4369-ab19-36423af7a898",
        "colab": {
          "base_uri": "https://localhost:8080/",
          "height": 1000
        }
      },
      "source": [
        "# CMLnet model\n",
        "K.clear_session()\n",
        "cml_input = layers.Input(shape=(img_rows, img_cols, 1))\n",
        "cml_output = CML_NN(cml_input, 128, TIME)\n",
        "cml_model = tf.keras.Model(inputs=cml_input, outputs=cml_output)\n",
        "\n",
        "cml_model.summary()"
      ],
      "execution_count": 0,
      "outputs": [
        {
          "output_type": "stream",
          "text": [
            "Model: \"model\"\n",
            "__________________________________________________________________________________________________\n",
            "Layer (type)                    Output Shape         Param #     Connected to                     \n",
            "==================================================================================================\n",
            "input_1 (InputLayer)            [(None, 28, 28, 1)]  0                                            \n",
            "__________________________________________________________________________________________________\n",
            "shared (Conv2D)                 (None, 28, 28, 64)   640         input_1[0][0]                    \n",
            "__________________________________________________________________________________________________\n",
            "init-c1 (Conv2D)                (None, 28, 28, 64)   36928       shared[0][0]                     \n",
            "__________________________________________________________________________________________________\n",
            "init-lru1 (ReLU)                (None, 28, 28, 64)   0           init-c1[0][0]                    \n",
            "__________________________________________________________________________________________________\n",
            "max_pooling2d (MaxPooling2D)    (None, 14, 14, 64)   0           init-lru1[0][0]                  \n",
            "__________________________________________________________________________________________________\n",
            "init-c2 (Conv2D)                (None, 14, 14, 64)   36928       max_pooling2d[0][0]              \n",
            "__________________________________________________________________________________________________\n",
            "init-lru2 (ReLU)                (None, 14, 14, 64)   0           init-c2[0][0]                    \n",
            "__________________________________________________________________________________________________\n",
            "max_pooling2d_1 (MaxPooling2D)  (None, 7, 7, 64)     0           init-lru2[0][0]                  \n",
            "__________________________________________________________________________________________________\n",
            "init-flt1 (Flatten)             (None, 3136)         0           max_pooling2d_1[0][0]            \n",
            "__________________________________________________________________________________________________\n",
            "init-d1 (Dense)                 (None, 128)          401536      init-flt1[0][0]                  \n",
            "__________________________________________________________________________________________________\n",
            "dropout (Dropout)               (None, 128)          0           init-d1[0][0]                    \n",
            "__________________________________________________________________________________________________\n",
            "initial-conditions (Activation) (None, 128)          0           dropout[0][0]                    \n",
            "__________________________________________________________________________________________________\n",
            "tf_op_layer_Shape_2 (TensorFlow [(2,)]               0           initial-conditions[0][0]         \n",
            "__________________________________________________________________________________________________\n",
            "tf_op_layer_Shape_3 (TensorFlow [(2,)]               0           initial-conditions[0][0]         \n",
            "__________________________________________________________________________________________________\n",
            "tf_op_layer_Fill (TensorFlowOpL [(None, 128)]        0           tf_op_layer_Shape_2[0][0]        \n",
            "__________________________________________________________________________________________________\n",
            "tf_op_layer_Fill_1 (TensorFlowO [(None, 128)]        0           tf_op_layer_Shape_3[0][0]        \n",
            "__________________________________________________________________________________________________\n",
            "tf_op_layer_Mul (TensorFlowOpLa [(None, 128)]        0           tf_op_layer_Fill[0][0]           \n",
            "__________________________________________________________________________________________________\n",
            "tf_op_layer_Mul_1 (TensorFlowOp [(None, 128)]        0           tf_op_layer_Fill_1[0][0]         \n",
            "__________________________________________________________________________________________________\n",
            "lattice-evolution-0 (Lambda)    (None, 128)          0           initial-conditions[0][0]         \n",
            "                                                                 tf_op_layer_Mul[0][0]            \n",
            "                                                                 tf_op_layer_Mul_1[0][0]          \n",
            "__________________________________________________________________________________________________\n",
            "lattice-evolution-1 (Lambda)    (None, 128)          0           lattice-evolution-0[0][0]        \n",
            "                                                                 tf_op_layer_Mul[0][0]            \n",
            "                                                                 tf_op_layer_Mul_1[0][0]          \n",
            "__________________________________________________________________________________________________\n",
            "lattice-evolution-2 (Lambda)    (None, 128)          0           lattice-evolution-1[0][0]        \n",
            "                                                                 tf_op_layer_Mul[0][0]            \n",
            "                                                                 tf_op_layer_Mul_1[0][0]          \n",
            "__________________________________________________________________________________________________\n",
            "lattice-evolution-3 (Lambda)    (None, 128)          0           lattice-evolution-2[0][0]        \n",
            "                                                                 tf_op_layer_Mul[0][0]            \n",
            "                                                                 tf_op_layer_Mul_1[0][0]          \n",
            "__________________________________________________________________________________________________\n",
            "lattice-evolution-4 (Lambda)    (None, 128)          0           lattice-evolution-3[0][0]        \n",
            "                                                                 tf_op_layer_Mul[0][0]            \n",
            "                                                                 tf_op_layer_Mul_1[0][0]          \n",
            "__________________________________________________________________________________________________\n",
            "lattice-evolution-5 (Lambda)    (None, 128)          0           lattice-evolution-4[0][0]        \n",
            "                                                                 tf_op_layer_Mul[0][0]            \n",
            "                                                                 tf_op_layer_Mul_1[0][0]          \n",
            "__________________________________________________________________________________________________\n",
            "lattice-evolution-6 (Lambda)    (None, 128)          0           lattice-evolution-5[0][0]        \n",
            "                                                                 tf_op_layer_Mul[0][0]            \n",
            "                                                                 tf_op_layer_Mul_1[0][0]          \n",
            "__________________________________________________________________________________________________\n",
            "lattice-evolution-7 (Lambda)    (None, 128)          0           lattice-evolution-6[0][0]        \n",
            "                                                                 tf_op_layer_Mul[0][0]            \n",
            "                                                                 tf_op_layer_Mul_1[0][0]          \n",
            "__________________________________________________________________________________________________\n",
            "lattice-evolution-8 (Lambda)    (None, 128)          0           lattice-evolution-7[0][0]        \n",
            "                                                                 tf_op_layer_Mul[0][0]            \n",
            "                                                                 tf_op_layer_Mul_1[0][0]          \n",
            "__________________________________________________________________________________________________\n",
            "lattice-evolution-9 (Lambda)    (None, 128)          0           lattice-evolution-8[0][0]        \n",
            "                                                                 tf_op_layer_Mul[0][0]            \n",
            "                                                                 tf_op_layer_Mul_1[0][0]          \n",
            "__________________________________________________________________________________________________\n",
            "add (Add)                       (None, 128)          0           lattice-evolution-9[0][0]        \n",
            "                                                                 initial-conditions[0][0]         \n",
            "__________________________________________________________________________________________________\n",
            "dropout_2 (Dropout)             (None, 128)          0           add[0][0]                        \n",
            "__________________________________________________________________________________________________\n",
            "dense (Dense)                   (None, 10)           1290        dropout_2[0][0]                  \n",
            "__________________________________________________________________________________________________\n",
            "activation_2 (Activation)       (None, 10)           0           dense[0][0]                      \n",
            "==================================================================================================\n",
            "Total params: 477,322\n",
            "Trainable params: 477,322\n",
            "Non-trainable params: 0\n",
            "__________________________________________________________________________________________________\n"
          ],
          "name": "stdout"
        }
      ]
    },
    {
      "cell_type": "markdown",
      "metadata": {
        "id": "yMTtTjyVm5eN",
        "colab_type": "text"
      },
      "source": [
        "### Option 1: `model.fit()`"
      ]
    },
    {
      "cell_type": "code",
      "metadata": {
        "id": "vRYWxsPgVNgi",
        "colab_type": "code",
        "colab": {}
      },
      "source": [
        "!mkdir tmp"
      ],
      "execution_count": 0,
      "outputs": []
    },
    {
      "cell_type": "code",
      "metadata": {
        "id": "rFXYXbLYm8IR",
        "colab_type": "code",
        "outputId": "da67e199-5f22-4944-e83e-df8e7f300184",
        "colab": {
          "base_uri": "https://localhost:8080/",
          "height": 1000
        }
      },
      "source": [
        "# Compiling the init-only CML\n",
        "cml_model.compile(loss=tf.keras.losses.categorical_crossentropy,\n",
        "                  optimizer=tf.keras.optimizers.Adadelta(),\n",
        "                  metrics=['accuracy'])\n",
        "\n",
        "\"\"\"\n",
        "cml_model.compile(loss=tf.keras.losses.categorical_crossentropy,\n",
        "                  optimizer=LRMultiplier('adam',\n",
        "                                         {lyr: 0.5 for lyr in [l.name for l in cml_model.layers\n",
        "                                                               if \"sys\" in l.name]}),\n",
        "                  metrics=['accuracy'])\n",
        "\"\"\"\n",
        "train_history_cml = cml_model.fit(x_train, y_train,\n",
        "                batch_size=batch_size,\n",
        "                epochs=epochs,\n",
        "                verbose=1,\n",
        "                validation_data=(x_test, y_test))#,\n",
        "                #callbacks=viz_cml(cml_model, x_test[0:3], TIME))\n",
        "\n",
        "score = cml_model.evaluate(x_test, y_test, verbose=0)\n",
        "print('Test loss:', score[0])\n",
        "print('Test accuracy:', score[1])"
      ],
      "execution_count": 0,
      "outputs": [
        {
          "output_type": "stream",
          "text": [
            "Epoch 1/100\n",
            "118/118 [==============================] - 6s 50ms/step - loss: 3.0843 - accuracy: 0.0973 - val_loss: 2.6036 - val_accuracy: 0.0882\n",
            "Epoch 2/100\n",
            "118/118 [==============================] - 5s 42ms/step - loss: 2.9348 - accuracy: 0.1055 - val_loss: 2.4256 - val_accuracy: 0.1120\n",
            "Epoch 3/100\n",
            "118/118 [==============================] - 5s 42ms/step - loss: 2.8096 - accuracy: 0.1199 - val_loss: 2.3155 - val_accuracy: 0.1395\n",
            "Epoch 4/100\n",
            "118/118 [==============================] - 5s 42ms/step - loss: 2.7301 - accuracy: 0.1294 - val_loss: 2.2334 - val_accuracy: 0.1719\n",
            "Epoch 5/100\n",
            "118/118 [==============================] - 5s 42ms/step - loss: 2.6463 - accuracy: 0.1409 - val_loss: 2.1548 - val_accuracy: 0.2079\n",
            "Epoch 6/100\n",
            "118/118 [==============================] - 5s 42ms/step - loss: 2.5710 - accuracy: 0.1535 - val_loss: 2.0796 - val_accuracy: 0.2599\n",
            "Epoch 7/100\n",
            "118/118 [==============================] - 5s 42ms/step - loss: 2.4817 - accuracy: 0.1742 - val_loss: 2.0170 - val_accuracy: 0.3129\n",
            "Epoch 8/100\n",
            "118/118 [==============================] - 5s 42ms/step - loss: 2.4117 - accuracy: 0.1920 - val_loss: 1.9651 - val_accuracy: 0.3384\n",
            "Epoch 9/100\n",
            "118/118 [==============================] - 5s 43ms/step - loss: 2.3253 - accuracy: 0.2125 - val_loss: 1.9161 - val_accuracy: 0.3496\n",
            "Epoch 10/100\n",
            "118/118 [==============================] - 5s 42ms/step - loss: 2.2403 - accuracy: 0.2395 - val_loss: 1.8686 - val_accuracy: 0.3636\n",
            "Epoch 11/100\n",
            "118/118 [==============================] - 5s 42ms/step - loss: 2.1632 - accuracy: 0.2659 - val_loss: 1.8322 - val_accuracy: 0.3762\n",
            "Epoch 12/100\n",
            "118/118 [==============================] - 5s 42ms/step - loss: 2.0824 - accuracy: 0.2914 - val_loss: 1.8026 - val_accuracy: 0.3857\n",
            "Epoch 13/100\n",
            "118/118 [==============================] - 5s 42ms/step - loss: 2.0216 - accuracy: 0.3123 - val_loss: 1.7740 - val_accuracy: 0.3998\n",
            "Epoch 14/100\n",
            "118/118 [==============================] - 5s 42ms/step - loss: 1.9662 - accuracy: 0.3338 - val_loss: 1.7489 - val_accuracy: 0.4115\n",
            "Epoch 15/100\n",
            "118/118 [==============================] - 5s 42ms/step - loss: 1.9209 - accuracy: 0.3494 - val_loss: 1.7128 - val_accuracy: 0.4282\n",
            "Epoch 16/100\n",
            "118/118 [==============================] - 5s 42ms/step - loss: 1.8797 - accuracy: 0.3657 - val_loss: 1.6800 - val_accuracy: 0.4432\n",
            "Epoch 17/100\n",
            "118/118 [==============================] - 5s 42ms/step - loss: 1.8414 - accuracy: 0.3767 - val_loss: 1.6441 - val_accuracy: 0.4569\n",
            "Epoch 18/100\n",
            "118/118 [==============================] - 5s 42ms/step - loss: 1.8106 - accuracy: 0.3871 - val_loss: 1.6143 - val_accuracy: 0.4706\n",
            "Epoch 19/100\n",
            "118/118 [==============================] - 5s 42ms/step - loss: 1.7718 - accuracy: 0.4037 - val_loss: 1.5845 - val_accuracy: 0.4847\n",
            "Epoch 20/100\n",
            "118/118 [==============================] - 5s 42ms/step - loss: 1.7426 - accuracy: 0.4144 - val_loss: 1.5541 - val_accuracy: 0.5005\n",
            "Epoch 21/100\n",
            "118/118 [==============================] - 5s 42ms/step - loss: 1.7211 - accuracy: 0.4230 - val_loss: 1.5333 - val_accuracy: 0.5084\n",
            "Epoch 22/100\n",
            "118/118 [==============================] - 5s 42ms/step - loss: 1.6874 - accuracy: 0.4332 - val_loss: 1.5044 - val_accuracy: 0.5201\n",
            "Epoch 23/100\n",
            "118/118 [==============================] - 5s 42ms/step - loss: 1.6649 - accuracy: 0.4416 - val_loss: 1.4848 - val_accuracy: 0.5288\n",
            "Epoch 24/100\n",
            "118/118 [==============================] - 5s 41ms/step - loss: 1.6408 - accuracy: 0.4548 - val_loss: 1.4524 - val_accuracy: 0.5448\n",
            "Epoch 25/100\n",
            "118/118 [==============================] - 5s 42ms/step - loss: 1.6199 - accuracy: 0.4604 - val_loss: 1.4306 - val_accuracy: 0.5551\n",
            "Epoch 26/100\n",
            "118/118 [==============================] - 5s 42ms/step - loss: 1.5979 - accuracy: 0.4678 - val_loss: 1.4119 - val_accuracy: 0.5634\n",
            "Epoch 27/100\n",
            "118/118 [==============================] - 5s 42ms/step - loss: 1.5735 - accuracy: 0.4796 - val_loss: 1.3841 - val_accuracy: 0.5769\n",
            "Epoch 28/100\n",
            "118/118 [==============================] - 5s 42ms/step - loss: 1.5556 - accuracy: 0.4850 - val_loss: 1.3660 - val_accuracy: 0.5876\n",
            "Epoch 29/100\n",
            "118/118 [==============================] - 5s 42ms/step - loss: 1.5317 - accuracy: 0.4981 - val_loss: 1.3448 - val_accuracy: 0.5985\n",
            "Epoch 30/100\n",
            "118/118 [==============================] - 5s 41ms/step - loss: 1.5146 - accuracy: 0.5019 - val_loss: 1.3319 - val_accuracy: 0.6022\n",
            "Epoch 31/100\n",
            "118/118 [==============================] - 5s 41ms/step - loss: 1.4940 - accuracy: 0.5095 - val_loss: 1.3133 - val_accuracy: 0.6108\n",
            "Epoch 32/100\n",
            "118/118 [==============================] - 5s 42ms/step - loss: 1.4794 - accuracy: 0.5154 - val_loss: 1.3041 - val_accuracy: 0.6136\n",
            "Epoch 33/100\n",
            "118/118 [==============================] - 5s 42ms/step - loss: 1.4621 - accuracy: 0.5218 - val_loss: 1.2907 - val_accuracy: 0.6176\n",
            "Epoch 34/100\n",
            "118/118 [==============================] - 5s 42ms/step - loss: 1.4416 - accuracy: 0.5314 - val_loss: 1.2700 - val_accuracy: 0.6266\n",
            "Epoch 35/100\n",
            "118/118 [==============================] - 5s 41ms/step - loss: 1.4285 - accuracy: 0.5331 - val_loss: 1.2516 - val_accuracy: 0.6348\n",
            "Epoch 36/100\n",
            "118/118 [==============================] - 5s 42ms/step - loss: 1.4059 - accuracy: 0.5451 - val_loss: 1.2386 - val_accuracy: 0.6387\n",
            "Epoch 37/100\n",
            "118/118 [==============================] - 5s 42ms/step - loss: 1.3913 - accuracy: 0.5510 - val_loss: 1.2256 - val_accuracy: 0.6443\n",
            "Epoch 38/100\n",
            "118/118 [==============================] - 5s 42ms/step - loss: 1.3811 - accuracy: 0.5564 - val_loss: 1.2107 - val_accuracy: 0.6495\n",
            "Epoch 39/100\n",
            "118/118 [==============================] - 5s 41ms/step - loss: 1.3621 - accuracy: 0.5630 - val_loss: 1.1893 - val_accuracy: 0.6608\n",
            "Epoch 40/100\n",
            "118/118 [==============================] - 5s 41ms/step - loss: 1.3509 - accuracy: 0.5659 - val_loss: 1.1788 - val_accuracy: 0.6645\n",
            "Epoch 41/100\n",
            "118/118 [==============================] - 5s 42ms/step - loss: 1.3378 - accuracy: 0.5717 - val_loss: 1.1679 - val_accuracy: 0.6688\n",
            "Epoch 42/100\n",
            "118/118 [==============================] - 5s 41ms/step - loss: 1.3235 - accuracy: 0.5801 - val_loss: 1.1590 - val_accuracy: 0.6723\n",
            "Epoch 43/100\n",
            "118/118 [==============================] - 5s 42ms/step - loss: 1.3043 - accuracy: 0.5866 - val_loss: 1.1428 - val_accuracy: 0.6792\n",
            "Epoch 44/100\n",
            "118/118 [==============================] - 5s 42ms/step - loss: 1.2959 - accuracy: 0.5907 - val_loss: 1.1259 - val_accuracy: 0.6877\n",
            "Epoch 45/100\n",
            "118/118 [==============================] - 5s 42ms/step - loss: 1.2817 - accuracy: 0.5951 - val_loss: 1.1179 - val_accuracy: 0.6897\n",
            "Epoch 46/100\n",
            "118/118 [==============================] - 5s 41ms/step - loss: 1.2702 - accuracy: 0.5990 - val_loss: 1.0993 - val_accuracy: 0.6994\n",
            "Epoch 47/100\n",
            "118/118 [==============================] - 5s 41ms/step - loss: 1.2575 - accuracy: 0.6041 - val_loss: 1.0939 - val_accuracy: 0.6992\n",
            "Epoch 48/100\n",
            "118/118 [==============================] - 5s 42ms/step - loss: 1.2397 - accuracy: 0.6118 - val_loss: 1.0833 - val_accuracy: 0.7025\n",
            "Epoch 49/100\n",
            "118/118 [==============================] - 5s 42ms/step - loss: 1.2302 - accuracy: 0.6157 - val_loss: 1.0734 - val_accuracy: 0.7065\n",
            "Epoch 50/100\n",
            "118/118 [==============================] - 5s 42ms/step - loss: 1.2190 - accuracy: 0.6219 - val_loss: 1.0601 - val_accuracy: 0.7118\n",
            "Epoch 51/100\n",
            "118/118 [==============================] - 5s 42ms/step - loss: 1.2032 - accuracy: 0.6264 - val_loss: 1.0547 - val_accuracy: 0.7136\n",
            "Epoch 52/100\n",
            "118/118 [==============================] - 5s 41ms/step - loss: 1.2054 - accuracy: 0.6261 - val_loss: 1.0338 - val_accuracy: 0.7231\n",
            "Epoch 53/100\n",
            "118/118 [==============================] - 5s 41ms/step - loss: 1.1874 - accuracy: 0.6346 - val_loss: 1.0314 - val_accuracy: 0.7233\n",
            "Epoch 54/100\n",
            "118/118 [==============================] - 5s 41ms/step - loss: 1.1758 - accuracy: 0.6395 - val_loss: 1.0204 - val_accuracy: 0.7261\n",
            "Epoch 55/100\n",
            "118/118 [==============================] - 5s 41ms/step - loss: 1.1713 - accuracy: 0.6385 - val_loss: 1.0095 - val_accuracy: 0.7304\n",
            "Epoch 56/100\n",
            "118/118 [==============================] - 5s 42ms/step - loss: 1.1591 - accuracy: 0.6449 - val_loss: 0.9942 - val_accuracy: 0.7363\n",
            "Epoch 57/100\n",
            "118/118 [==============================] - 5s 41ms/step - loss: 1.1485 - accuracy: 0.6480 - val_loss: 0.9874 - val_accuracy: 0.7386\n",
            "Epoch 58/100\n",
            "118/118 [==============================] - 5s 41ms/step - loss: 1.1397 - accuracy: 0.6507 - val_loss: 0.9829 - val_accuracy: 0.7396\n",
            "Epoch 59/100\n",
            "118/118 [==============================] - 5s 41ms/step - loss: 1.1257 - accuracy: 0.6571 - val_loss: 0.9756 - val_accuracy: 0.7421\n",
            "Epoch 60/100\n",
            "118/118 [==============================] - 5s 41ms/step - loss: 1.1202 - accuracy: 0.6597 - val_loss: 0.9609 - val_accuracy: 0.7499\n",
            "Epoch 61/100\n",
            "118/118 [==============================] - 5s 42ms/step - loss: 1.1090 - accuracy: 0.6636 - val_loss: 0.9560 - val_accuracy: 0.7495\n",
            "Epoch 62/100\n",
            "118/118 [==============================] - 5s 42ms/step - loss: 1.0979 - accuracy: 0.6674 - val_loss: 0.9457 - val_accuracy: 0.7548\n",
            "Epoch 63/100\n",
            "118/118 [==============================] - 5s 42ms/step - loss: 1.0917 - accuracy: 0.6718 - val_loss: 0.9379 - val_accuracy: 0.7553\n",
            "Epoch 64/100\n",
            "118/118 [==============================] - 5s 42ms/step - loss: 1.0843 - accuracy: 0.6747 - val_loss: 0.9294 - val_accuracy: 0.7576\n",
            "Epoch 65/100\n",
            "118/118 [==============================] - 5s 42ms/step - loss: 1.0709 - accuracy: 0.6805 - val_loss: 0.9210 - val_accuracy: 0.7597\n",
            "Epoch 66/100\n",
            "118/118 [==============================] - 5s 41ms/step - loss: 1.0652 - accuracy: 0.6833 - val_loss: 0.9148 - val_accuracy: 0.7607\n",
            "Epoch 67/100\n",
            "118/118 [==============================] - 5s 41ms/step - loss: 1.0581 - accuracy: 0.6852 - val_loss: 0.9068 - val_accuracy: 0.7634\n",
            "Epoch 68/100\n",
            "118/118 [==============================] - 5s 42ms/step - loss: 1.0460 - accuracy: 0.6887 - val_loss: 0.8977 - val_accuracy: 0.7669\n",
            "Epoch 69/100\n",
            "118/118 [==============================] - 5s 42ms/step - loss: 1.0361 - accuracy: 0.6953 - val_loss: 0.8955 - val_accuracy: 0.7652\n",
            "Epoch 70/100\n",
            "118/118 [==============================] - 5s 42ms/step - loss: 1.0269 - accuracy: 0.6982 - val_loss: 0.8840 - val_accuracy: 0.7719\n",
            "Epoch 71/100\n",
            "118/118 [==============================] - 5s 41ms/step - loss: 1.0245 - accuracy: 0.6971 - val_loss: 0.8727 - val_accuracy: 0.7768\n",
            "Epoch 72/100\n",
            "118/118 [==============================] - 5s 42ms/step - loss: 1.0131 - accuracy: 0.7037 - val_loss: 0.8706 - val_accuracy: 0.7753\n",
            "Epoch 73/100\n",
            "118/118 [==============================] - 5s 42ms/step - loss: 1.0062 - accuracy: 0.7074 - val_loss: 0.8611 - val_accuracy: 0.7785\n",
            "Epoch 74/100\n",
            "118/118 [==============================] - 5s 42ms/step - loss: 0.9974 - accuracy: 0.7092 - val_loss: 0.8532 - val_accuracy: 0.7809\n",
            "Epoch 75/100\n",
            "118/118 [==============================] - 5s 41ms/step - loss: 0.9865 - accuracy: 0.7140 - val_loss: 0.8446 - val_accuracy: 0.7839\n",
            "Epoch 76/100\n",
            "118/118 [==============================] - 5s 41ms/step - loss: 0.9776 - accuracy: 0.7173 - val_loss: 0.8373 - val_accuracy: 0.7868\n",
            "Epoch 77/100\n",
            "118/118 [==============================] - 5s 42ms/step - loss: 0.9708 - accuracy: 0.7196 - val_loss: 0.8325 - val_accuracy: 0.7871\n",
            "Epoch 78/100\n",
            "118/118 [==============================] - 5s 42ms/step - loss: 0.9629 - accuracy: 0.7218 - val_loss: 0.8198 - val_accuracy: 0.7930\n",
            "Epoch 79/100\n",
            "118/118 [==============================] - 5s 42ms/step - loss: 0.9583 - accuracy: 0.7253 - val_loss: 0.8145 - val_accuracy: 0.7950\n",
            "Epoch 80/100\n",
            "118/118 [==============================] - 5s 42ms/step - loss: 0.9520 - accuracy: 0.7269 - val_loss: 0.8101 - val_accuracy: 0.7973\n",
            "Epoch 81/100\n",
            "118/118 [==============================] - 5s 42ms/step - loss: 0.9432 - accuracy: 0.7306 - val_loss: 0.8048 - val_accuracy: 0.8000\n",
            "Epoch 82/100\n",
            "118/118 [==============================] - 5s 42ms/step - loss: 0.9395 - accuracy: 0.7315 - val_loss: 0.7965 - val_accuracy: 0.8033\n",
            "Epoch 83/100\n",
            "118/118 [==============================] - 5s 42ms/step - loss: 0.9252 - accuracy: 0.7396 - val_loss: 0.7933 - val_accuracy: 0.8038\n",
            "Epoch 84/100\n",
            "118/118 [==============================] - 5s 41ms/step - loss: 0.9214 - accuracy: 0.7388 - val_loss: 0.7867 - val_accuracy: 0.8043\n",
            "Epoch 85/100\n",
            "118/118 [==============================] - 5s 42ms/step - loss: 0.9171 - accuracy: 0.7411 - val_loss: 0.7789 - val_accuracy: 0.8078\n",
            "Epoch 86/100\n",
            "118/118 [==============================] - 5s 43ms/step - loss: 0.9044 - accuracy: 0.7468 - val_loss: 0.7738 - val_accuracy: 0.8110\n",
            "Epoch 87/100\n",
            "118/118 [==============================] - 5s 42ms/step - loss: 0.9009 - accuracy: 0.7474 - val_loss: 0.7648 - val_accuracy: 0.8126\n",
            "Epoch 88/100\n",
            "118/118 [==============================] - 5s 42ms/step - loss: 0.8977 - accuracy: 0.7482 - val_loss: 0.7636 - val_accuracy: 0.8112\n",
            "Epoch 89/100\n",
            "118/118 [==============================] - 5s 42ms/step - loss: 0.8928 - accuracy: 0.7518 - val_loss: 0.7546 - val_accuracy: 0.8160\n",
            "Epoch 90/100\n",
            "118/118 [==============================] - 5s 42ms/step - loss: 0.8806 - accuracy: 0.7556 - val_loss: 0.7440 - val_accuracy: 0.8196\n",
            "Epoch 91/100\n",
            "118/118 [==============================] - 5s 42ms/step - loss: 0.8797 - accuracy: 0.7558 - val_loss: 0.7464 - val_accuracy: 0.8190\n",
            "Epoch 92/100\n",
            "118/118 [==============================] - 5s 42ms/step - loss: 0.8659 - accuracy: 0.7619 - val_loss: 0.7412 - val_accuracy: 0.8204\n",
            "Epoch 93/100\n",
            "118/118 [==============================] - 5s 42ms/step - loss: 0.8657 - accuracy: 0.7616 - val_loss: 0.7292 - val_accuracy: 0.8273\n",
            "Epoch 94/100\n",
            "118/118 [==============================] - 5s 42ms/step - loss: 0.8555 - accuracy: 0.7668 - val_loss: 0.7261 - val_accuracy: 0.8277\n",
            "Epoch 95/100\n",
            "118/118 [==============================] - 5s 41ms/step - loss: 0.8506 - accuracy: 0.7676 - val_loss: 0.7202 - val_accuracy: 0.8313\n",
            "Epoch 96/100\n",
            "118/118 [==============================] - 5s 42ms/step - loss: 0.8469 - accuracy: 0.7691 - val_loss: 0.7105 - val_accuracy: 0.8350\n",
            "Epoch 97/100\n",
            "118/118 [==============================] - 5s 41ms/step - loss: 0.8403 - accuracy: 0.7725 - val_loss: 0.7054 - val_accuracy: 0.8367\n",
            "Epoch 98/100\n",
            "118/118 [==============================] - 5s 42ms/step - loss: 0.8349 - accuracy: 0.7721 - val_loss: 0.7023 - val_accuracy: 0.8366\n",
            "Epoch 99/100\n",
            "118/118 [==============================] - 5s 42ms/step - loss: 0.8292 - accuracy: 0.7750 - val_loss: 0.6939 - val_accuracy: 0.8415\n",
            "Epoch 100/100\n",
            "118/118 [==============================] - 5s 42ms/step - loss: 0.8241 - accuracy: 0.7784 - val_loss: 0.6912 - val_accuracy: 0.8429\n",
            "Test loss: 0.6912243366241455\n",
            "Test accuracy: 0.8428999781608582\n"
          ],
          "name": "stdout"
        }
      ]
    },
    {
      "cell_type": "code",
      "metadata": {
        "id": "SLp0pWFo9FL0",
        "colab_type": "code",
        "colab": {}
      },
      "source": [
        ""
      ],
      "execution_count": 0,
      "outputs": []
    },
    {
      "cell_type": "code",
      "metadata": {
        "id": "CVbF1o7699ON",
        "colab_type": "code",
        "outputId": "5c6192d0-91c7-494d-9574-eb5b7aa09596",
        "colab": {
          "base_uri": "https://localhost:8080/",
          "height": 265
        }
      },
      "source": [
        "loss = train_history_cml.history['val_accuracy']\n",
        "#loss_alt = train_history_alt.history['val_loss']\n",
        "plt.plot(loss)\n",
        "#plt.plot(loss_alt)\n",
        "#plt.legend(['val loss (CML)', 'val loss (ReLU)'])\n",
        "plt.show()"
      ],
      "execution_count": 0,
      "outputs": [
        {
          "output_type": "display_data",
          "data": {
            "image/png": "[encoded data removed]",
            "text/plain": [
              "<Figure size 432x288 with 1 Axes>"
            ]
          },
          "metadata": {
            "tags": [],
            "needs_background": "light"
          }
        }
      ]
    },
    {
      "cell_type": "markdown",
      "metadata": {
        "id": "xzPNgOUutYAv",
        "colab_type": "text"
      },
      "source": [
        "### Generate CML GIF"
      ]
    },
    {
      "cell_type": "code",
      "metadata": {
        "id": "YoR-aPHmtfru",
        "colab_type": "code",
        "outputId": "1126c2d3-96c9-46f9-c458-cbfd57273683",
        "colab": {
          "base_uri": "https://localhost:8080/",
          "height": 358
        }
      },
      "source": [
        "import imageio\n",
        "\n",
        "dirName = \"tmp/\"\n",
        "\n",
        "gif_images = [imageio.imread(dirName + str(i) + '.png')  for i in range(epochs)]\n",
        "imageio.mimsave('cml.gif', gif_images)"
      ],
      "execution_count": 0,
      "outputs": [
        {
          "output_type": "error",
          "ename": "FileNotFoundError",
          "evalue": "ignored",
          "traceback": [
            "\u001b[0;31m---------------------------------------------------------------------------\u001b[0m",
            "\u001b[0;31mFileNotFoundError\u001b[0m                         Traceback (most recent call last)",
            "\u001b[0;32m<ipython-input-14-5ce5c6e9433d>\u001b[0m in \u001b[0;36m<module>\u001b[0;34m()\u001b[0m\n\u001b[1;32m      3\u001b[0m \u001b[0mdirName\u001b[0m \u001b[0;34m=\u001b[0m \u001b[0;34m\"tmp/\"\u001b[0m\u001b[0;34m\u001b[0m\u001b[0;34m\u001b[0m\u001b[0m\n\u001b[1;32m      4\u001b[0m \u001b[0;34m\u001b[0m\u001b[0m\n\u001b[0;32m----> 5\u001b[0;31m \u001b[0mgif_images\u001b[0m \u001b[0;34m=\u001b[0m \u001b[0;34m[\u001b[0m\u001b[0mimageio\u001b[0m\u001b[0;34m.\u001b[0m\u001b[0mimread\u001b[0m\u001b[0;34m(\u001b[0m\u001b[0mdirName\u001b[0m \u001b[0;34m+\u001b[0m \u001b[0mstr\u001b[0m\u001b[0;34m(\u001b[0m\u001b[0mi\u001b[0m\u001b[0;34m)\u001b[0m \u001b[0;34m+\u001b[0m \u001b[0;34m'.png'\u001b[0m\u001b[0;34m)\u001b[0m  \u001b[0;32mfor\u001b[0m \u001b[0mi\u001b[0m \u001b[0;32min\u001b[0m \u001b[0mrange\u001b[0m\u001b[0;34m(\u001b[0m\u001b[0mepochs\u001b[0m\u001b[0;34m)\u001b[0m\u001b[0;34m]\u001b[0m\u001b[0;34m\u001b[0m\u001b[0;34m\u001b[0m\u001b[0m\n\u001b[0m\u001b[1;32m      6\u001b[0m \u001b[0mimageio\u001b[0m\u001b[0;34m.\u001b[0m\u001b[0mmimsave\u001b[0m\u001b[0;34m(\u001b[0m\u001b[0;34m'cml.gif'\u001b[0m\u001b[0;34m,\u001b[0m \u001b[0mgif_images\u001b[0m\u001b[0;34m)\u001b[0m\u001b[0;34m\u001b[0m\u001b[0;34m\u001b[0m\u001b[0m\n",
            "\u001b[0;32m<ipython-input-14-5ce5c6e9433d>\u001b[0m in \u001b[0;36m<listcomp>\u001b[0;34m(.0)\u001b[0m\n\u001b[1;32m      3\u001b[0m \u001b[0mdirName\u001b[0m \u001b[0;34m=\u001b[0m \u001b[0;34m\"tmp/\"\u001b[0m\u001b[0;34m\u001b[0m\u001b[0;34m\u001b[0m\u001b[0m\n\u001b[1;32m      4\u001b[0m \u001b[0;34m\u001b[0m\u001b[0m\n\u001b[0;32m----> 5\u001b[0;31m \u001b[0mgif_images\u001b[0m \u001b[0;34m=\u001b[0m \u001b[0;34m[\u001b[0m\u001b[0mimageio\u001b[0m\u001b[0;34m.\u001b[0m\u001b[0mimread\u001b[0m\u001b[0;34m(\u001b[0m\u001b[0mdirName\u001b[0m \u001b[0;34m+\u001b[0m \u001b[0mstr\u001b[0m\u001b[0;34m(\u001b[0m\u001b[0mi\u001b[0m\u001b[0;34m)\u001b[0m \u001b[0;34m+\u001b[0m \u001b[0;34m'.png'\u001b[0m\u001b[0;34m)\u001b[0m  \u001b[0;32mfor\u001b[0m \u001b[0mi\u001b[0m \u001b[0;32min\u001b[0m \u001b[0mrange\u001b[0m\u001b[0;34m(\u001b[0m\u001b[0mepochs\u001b[0m\u001b[0;34m)\u001b[0m\u001b[0;34m]\u001b[0m\u001b[0;34m\u001b[0m\u001b[0;34m\u001b[0m\u001b[0m\n\u001b[0m\u001b[1;32m      6\u001b[0m \u001b[0mimageio\u001b[0m\u001b[0;34m.\u001b[0m\u001b[0mmimsave\u001b[0m\u001b[0;34m(\u001b[0m\u001b[0;34m'cml.gif'\u001b[0m\u001b[0;34m,\u001b[0m \u001b[0mgif_images\u001b[0m\u001b[0;34m)\u001b[0m\u001b[0;34m\u001b[0m\u001b[0;34m\u001b[0m\u001b[0m\n",
            "\u001b[0;32m/usr/local/lib/python3.6/dist-packages/imageio/core/functions.py\u001b[0m in \u001b[0;36mimread\u001b[0;34m(uri, format, **kwargs)\u001b[0m\n\u001b[1;32m    219\u001b[0m \u001b[0;34m\u001b[0m\u001b[0m\n\u001b[1;32m    220\u001b[0m     \u001b[0;31m# Get reader and read first\u001b[0m\u001b[0;34m\u001b[0m\u001b[0;34m\u001b[0m\u001b[0;34m\u001b[0m\u001b[0m\n\u001b[0;32m--> 221\u001b[0;31m     \u001b[0mreader\u001b[0m \u001b[0;34m=\u001b[0m \u001b[0mread\u001b[0m\u001b[0;34m(\u001b[0m\u001b[0muri\u001b[0m\u001b[0;34m,\u001b[0m \u001b[0mformat\u001b[0m\u001b[0;34m,\u001b[0m \u001b[0;34m\"i\"\u001b[0m\u001b[0;34m,\u001b[0m \u001b[0;34m**\u001b[0m\u001b[0mkwargs\u001b[0m\u001b[0;34m)\u001b[0m\u001b[0;34m\u001b[0m\u001b[0;34m\u001b[0m\u001b[0m\n\u001b[0m\u001b[1;32m    222\u001b[0m     \u001b[0;32mwith\u001b[0m \u001b[0mreader\u001b[0m\u001b[0;34m:\u001b[0m\u001b[0;34m\u001b[0m\u001b[0;34m\u001b[0m\u001b[0m\n\u001b[1;32m    223\u001b[0m         \u001b[0;32mreturn\u001b[0m \u001b[0mreader\u001b[0m\u001b[0;34m.\u001b[0m\u001b[0mget_data\u001b[0m\u001b[0;34m(\u001b[0m\u001b[0;36m0\u001b[0m\u001b[0;34m)\u001b[0m\u001b[0;34m\u001b[0m\u001b[0;34m\u001b[0m\u001b[0m\n",
            "\u001b[0;32m/usr/local/lib/python3.6/dist-packages/imageio/core/functions.py\u001b[0m in \u001b[0;36mget_reader\u001b[0;34m(uri, format, mode, **kwargs)\u001b[0m\n\u001b[1;32m    128\u001b[0m \u001b[0;34m\u001b[0m\u001b[0m\n\u001b[1;32m    129\u001b[0m     \u001b[0;31m# Create request object\u001b[0m\u001b[0;34m\u001b[0m\u001b[0;34m\u001b[0m\u001b[0;34m\u001b[0m\u001b[0m\n\u001b[0;32m--> 130\u001b[0;31m     \u001b[0mrequest\u001b[0m \u001b[0;34m=\u001b[0m \u001b[0mRequest\u001b[0m\u001b[0;34m(\u001b[0m\u001b[0muri\u001b[0m\u001b[0;34m,\u001b[0m \u001b[0;34m\"r\"\u001b[0m \u001b[0;34m+\u001b[0m \u001b[0mmode\u001b[0m\u001b[0;34m,\u001b[0m \u001b[0;34m**\u001b[0m\u001b[0mkwargs\u001b[0m\u001b[0;34m)\u001b[0m\u001b[0;34m\u001b[0m\u001b[0;34m\u001b[0m\u001b[0m\n\u001b[0m\u001b[1;32m    131\u001b[0m \u001b[0;34m\u001b[0m\u001b[0m\n\u001b[1;32m    132\u001b[0m     \u001b[0;31m# Get format\u001b[0m\u001b[0;34m\u001b[0m\u001b[0;34m\u001b[0m\u001b[0;34m\u001b[0m\u001b[0m\n",
            "\u001b[0;32m/usr/local/lib/python3.6/dist-packages/imageio/core/request.py\u001b[0m in \u001b[0;36m__init__\u001b[0;34m(self, uri, mode, **kwargs)\u001b[0m\n\u001b[1;32m    123\u001b[0m \u001b[0;34m\u001b[0m\u001b[0m\n\u001b[1;32m    124\u001b[0m         \u001b[0;31m# Parse what was given\u001b[0m\u001b[0;34m\u001b[0m\u001b[0;34m\u001b[0m\u001b[0;34m\u001b[0m\u001b[0m\n\u001b[0;32m--> 125\u001b[0;31m         \u001b[0mself\u001b[0m\u001b[0;34m.\u001b[0m\u001b[0m_parse_uri\u001b[0m\u001b[0;34m(\u001b[0m\u001b[0muri\u001b[0m\u001b[0;34m)\u001b[0m\u001b[0;34m\u001b[0m\u001b[0;34m\u001b[0m\u001b[0m\n\u001b[0m\u001b[1;32m    126\u001b[0m \u001b[0;34m\u001b[0m\u001b[0m\n\u001b[1;32m    127\u001b[0m         \u001b[0;31m# Set extension\u001b[0m\u001b[0;34m\u001b[0m\u001b[0;34m\u001b[0m\u001b[0;34m\u001b[0m\u001b[0m\n",
            "\u001b[0;32m/usr/local/lib/python3.6/dist-packages/imageio/core/request.py\u001b[0m in \u001b[0;36m_parse_uri\u001b[0;34m(self, uri)\u001b[0m\n\u001b[1;32m    271\u001b[0m                 \u001b[0;31m# Reading: check that the file exists (but is allowed a dir)\u001b[0m\u001b[0;34m\u001b[0m\u001b[0;34m\u001b[0m\u001b[0;34m\u001b[0m\u001b[0m\n\u001b[1;32m    272\u001b[0m                 \u001b[0;32mif\u001b[0m \u001b[0;32mnot\u001b[0m \u001b[0mos\u001b[0m\u001b[0;34m.\u001b[0m\u001b[0mpath\u001b[0m\u001b[0;34m.\u001b[0m\u001b[0mexists\u001b[0m\u001b[0;34m(\u001b[0m\u001b[0mfn\u001b[0m\u001b[0;34m)\u001b[0m\u001b[0;34m:\u001b[0m\u001b[0;34m\u001b[0m\u001b[0;34m\u001b[0m\u001b[0m\n\u001b[0;32m--> 273\u001b[0;31m                     \u001b[0;32mraise\u001b[0m \u001b[0mFileNotFoundError\u001b[0m\u001b[0;34m(\u001b[0m\u001b[0;34m\"No such file: '%s'\"\u001b[0m \u001b[0;34m%\u001b[0m \u001b[0mfn\u001b[0m\u001b[0;34m)\u001b[0m\u001b[0;34m\u001b[0m\u001b[0;34m\u001b[0m\u001b[0m\n\u001b[0m\u001b[1;32m    274\u001b[0m             \u001b[0;32melse\u001b[0m\u001b[0;34m:\u001b[0m\u001b[0;34m\u001b[0m\u001b[0;34m\u001b[0m\u001b[0m\n\u001b[1;32m    275\u001b[0m                 \u001b[0;31m# Writing: check that the directory to write to does exist\u001b[0m\u001b[0;34m\u001b[0m\u001b[0;34m\u001b[0m\u001b[0;34m\u001b[0m\u001b[0m\n",
            "\u001b[0;31mFileNotFoundError\u001b[0m: No such file: '/content/tmp/0.png'"
          ]
        }
      ]
    },
    {
      "cell_type": "code",
      "metadata": {
        "id": "4_UoDne3hWjU",
        "colab_type": "code",
        "colab": {}
      },
      "source": [
        ""
      ],
      "execution_count": 0,
      "outputs": []
    }
  ]
}